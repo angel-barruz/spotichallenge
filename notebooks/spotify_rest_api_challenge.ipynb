{
 "cells": [
  {
   "cell_type": "markdown",
   "id": "ef05c1d6",
   "metadata": {},
   "source": [
    "![spotify_logo](../img/spotify_logo.png)\n",
    "\n",
    "# Spotify REST API Challenge\n",
    "\n",
    "__What to listen?__\n",
    "\n",
    "Create your own playlist based on the related artists and their most popular tracks using the [Spotify REST API](https://developer.spotify.com/)"
   ]
  },
  {
   "cell_type": "code",
   "execution_count": 2,
   "id": "17a49776",
   "metadata": {},
   "outputs": [],
   "source": [
    "# imports\n",
    "import pandas as pd\n",
    "import requests\n",
    "\n"
   ]
  },
  {
   "cell_type": "markdown",
   "id": "4e97884c",
   "metadata": {},
   "source": [
    "### Get access!!!\n",
    "\n",
    "Get your `client_id` and `client_secret` to generate your __token__ access"
   ]
  },
  {
   "cell_type": "code",
   "execution_count": 3,
   "id": "7b5d2e52",
   "metadata": {},
   "outputs": [],
   "source": [
    "# generate token with a POST request\n",
    "\n",
    "client_id = '719f591d9e8a4f1aab3d6263b279a211'\n",
    "client_secret = 'ccb526836af54f39806bbe40c05bf94d'\n",
    "auth_url = 'https://accounts.spotify.com/api/token'"
   ]
  },
  {
   "cell_type": "code",
   "execution_count": 4,
   "id": "c7901d1e",
   "metadata": {},
   "outputs": [],
   "source": [
    "auth_response = requests.post(auth_url, {'grant_type': 'client_credentials',\n",
    "                                         'client_id': client_id,\n",
    "                                         'client_secret': client_secret}).json()"
   ]
  },
  {
   "cell_type": "code",
   "execution_count": 5,
   "id": "c1fd1183",
   "metadata": {},
   "outputs": [
    {
     "data": {
      "text/plain": [
       "{'access_token': 'BQAfksqMXHZ8YZhniU9diS2kw05j3C-Y7kmGscw7DE9vxIbm1fD02559YFUpxFrd40IiyS08ho33406IScAdJ3lAUjG2OugJCTABLG8UpKBGB0p2u5A',\n",
       " 'token_type': 'Bearer',\n",
       " 'expires_in': 3600}"
      ]
     },
     "execution_count": 5,
     "metadata": {},
     "output_type": "execute_result"
    }
   ],
   "source": [
    "auth_response"
   ]
  },
  {
   "cell_type": "code",
   "execution_count": 6,
   "id": "262e7e18",
   "metadata": {},
   "outputs": [
    {
     "data": {
      "text/plain": [
       "{'access_token': 'BQAfksqMXHZ8YZhniU9diS2kw05j3C-Y7kmGscw7DE9vxIbm1fD02559YFUpxFrd40IiyS08ho33406IScAdJ3lAUjG2OugJCTABLG8UpKBGB0p2u5A',\n",
       " 'token_type': 'Bearer',\n",
       " 'expires_in': 3600}"
      ]
     },
     "execution_count": 6,
     "metadata": {},
     "output_type": "execute_result"
    }
   ],
   "source": [
    "access_token = auth_response['access_token']\n",
    "auth_response"
   ]
  },
  {
   "cell_type": "code",
   "execution_count": null,
   "id": "2337e321",
   "metadata": {},
   "outputs": [],
   "source": []
  },
  {
   "cell_type": "markdown",
   "id": "e617caff",
   "metadata": {},
   "source": [
    "### Set your main variables!!!\n",
    "\n",
    "Set the `base_url` (i.e.: End-point), parameters and `headers` for your __GET__ operations"
   ]
  },
  {
   "cell_type": "code",
   "execution_count": 7,
   "id": "62e6d4fb",
   "metadata": {},
   "outputs": [],
   "source": [
    "# setting the main variables\n",
    "\n",
    "base_url = 'https://api.spotify.com/v1'\n",
    "resource = '/artists'\n",
    "parameters = '/711MCceyCBcFnzjGY4Q7Un'\n",
    "header = {'Authorization': 'Bearer {token}'.format(token=access_token)}"
   ]
  },
  {
   "cell_type": "markdown",
   "id": "16660a9b",
   "metadata": {},
   "source": [
    "### Create your new playlist!!!\n",
    "\n",
    "Use [`/related-artists`](https://developer.spotify.com/documentation/web-api/reference/#/operations/get-an-artists-related-artists) and [`/top-tracks`](https://developer.spotify.com/documentation/web-api/reference/#/operations/get-an-artists-top-tracks) in order to get the data that you need\n",
    "\n",
    "__Here you have the different artists to start with:__\n",
    "\n",
    "_Option 1:_ 711MCceyCBcFnzjGY4Q7Un\n",
    "\n",
    "_Option 2:_ 5gs3QMiBgkUgNofeA16Awv\n",
    "\n",
    "_Option 3:_ 1ZcvF2meiXi5UPDJWxrKR5\n",
    "\n",
    "_Option 4:_ 0HSGpDMeXaEmH5aUIHjnBF\n",
    "\n",
    "_Option 5:_ 5TYxZTjIPqKM8K8NuP9woO\n",
    "\n",
    "_Option 6:_ 36QJpDe2go2KgaRleHCDTp\n",
    "\n",
    "_Option 7:_ 3qm84nBOXUEQ2vnTfUTTFC\n",
    "\n",
    "_Option 8:_ 4NJhFmfw43RLBLjQvxDuRS\n",
    "\n",
    "_Option 9:_ 0L8ExT028jH3ddEcZwqJJ5\n",
    "\n",
    "_Option 10:_ 1vCWHaC5f2uS3yhpwWbIA6\n",
    "\n",
    "_Option 11:_ 1dfeR4HaWDbWqFHLkxsg1d\n",
    "\n",
    "_Option 12:_ 6ogn9necmbUdCppmNnGOdi"
   ]
  },
  {
   "cell_type": "code",
   "execution_count": 8,
   "id": "4a435b41",
   "metadata": {},
   "outputs": [
    {
     "data": {
      "text/plain": [
       "'https://api.spotify.com/v1/artists/711MCceyCBcFnzjGY4Q7Un'"
      ]
     },
     "execution_count": 8,
     "metadata": {},
     "output_type": "execute_result"
    }
   ],
   "source": [
    "url = base_url + resource + parameters\n",
    "url"
   ]
  },
  {
   "cell_type": "code",
   "execution_count": 9,
   "id": "50ec3959",
   "metadata": {},
   "outputs": [
    {
     "data": {
      "text/plain": [
       "{'external_urls': {'spotify': 'https://open.spotify.com/artist/711MCceyCBcFnzjGY4Q7Un'},\n",
       " 'followers': {'href': None, 'total': 23708340},\n",
       " 'genres': ['album rock', 'australian rock', 'hard rock', 'rock'],\n",
       " 'href': 'https://api.spotify.com/v1/artists/711MCceyCBcFnzjGY4Q7Un',\n",
       " 'id': '711MCceyCBcFnzjGY4Q7Un',\n",
       " 'images': [{'height': 640,\n",
       "   'url': 'https://i.scdn.co/image/ab6761610000e5ebc4c77549095c86acb4e77b37',\n",
       "   'width': 640},\n",
       "  {'height': 320,\n",
       "   'url': 'https://i.scdn.co/image/ab67616100005174c4c77549095c86acb4e77b37',\n",
       "   'width': 320},\n",
       "  {'height': 160,\n",
       "   'url': 'https://i.scdn.co/image/ab6761610000f178c4c77549095c86acb4e77b37',\n",
       "   'width': 160}],\n",
       " 'name': 'AC/DC',\n",
       " 'popularity': 79,\n",
       " 'type': 'artist',\n",
       " 'uri': 'spotify:artist:711MCceyCBcFnzjGY4Q7Un'}"
      ]
     },
     "execution_count": 9,
     "metadata": {},
     "output_type": "execute_result"
    }
   ],
   "source": [
    "# your code\n",
    "\n",
    "response = requests.get(base_url + resource + parameters, headers=header).json()\n",
    "response"
   ]
  },
  {
   "cell_type": "code",
   "execution_count": 10,
   "id": "7379972e",
   "metadata": {},
   "outputs": [
    {
     "data": {
      "text/plain": [
       "'https://api.spotify.com/v1/artists/711MCceyCBcFnzjGY4Q7Un/related-artists'"
      ]
     },
     "execution_count": 10,
     "metadata": {},
     "output_type": "execute_result"
    }
   ],
   "source": [
    "r_artist = base_url + resource + parameters + '/related-artists'\n",
    "r_artist"
   ]
  },
  {
   "cell_type": "code",
   "execution_count": 11,
   "id": "ee3bfa10",
   "metadata": {},
   "outputs": [
    {
     "name": "stdout",
     "output_type": "stream",
     "text": [
      "<class 'dict'>\n"
     ]
    },
    {
     "data": {
      "text/plain": [
       "dict_keys(['artists'])"
      ]
     },
     "execution_count": 11,
     "metadata": {},
     "output_type": "execute_result"
    }
   ],
   "source": [
    "response_2 = requests.get(r_artist, headers=header).json()\n",
    "print(type(response_2))\n",
    "response_2.keys()"
   ]
  },
  {
   "cell_type": "code",
   "execution_count": 12,
   "id": "ed4b7d93",
   "metadata": {},
   "outputs": [
    {
     "name": "stdout",
     "output_type": "stream",
     "text": [
      "<class 'list'>\n"
     ]
    },
    {
     "data": {
      "text/plain": [
       "20"
      ]
     },
     "execution_count": 12,
     "metadata": {},
     "output_type": "execute_result"
    }
   ],
   "source": [
    "interesa = response_2['artists']\n",
    "print(type(interesa))\n",
    "len(interesa)"
   ]
  },
  {
   "cell_type": "code",
   "execution_count": 13,
   "id": "089db821",
   "metadata": {},
   "outputs": [
    {
     "name": "stdout",
     "output_type": "stream",
     "text": [
      "(\"Guns N' Roses\", '3qm84nBOXUEQ2vnTfUTTFC')\n",
      "('Airbourne', '6urzdpGY5yUimWZsgJUoTb')\n",
      "('KISS', '07XSN3sPlIlB2L2XNcTwJw')\n",
      "('Aerosmith', '7Ey4PD4MYsKc5I2dolUwbH')\n",
      "('Alice Cooper', '3EhbVgyfGd7HkpsagwL9GS')\n",
      "('Judas Priest', '2tRsMl4eGxwoNabM08Dm4I')\n",
      "('Dio', '4CYeVo5iZbtYGBN4Isc3n6')\n",
      "('Ozzy Osbourne', '6ZLTlhejhndI4Rh53vYhrY')\n",
      "('Scorpions', '27T030eWyCQRmDyuvr1kxY')\n",
      "('Deep Purple', '568ZhdwyaiCyOGJRtNYhWf')\n",
      "('Iron Maiden', '6mdiAmATAx73kdxrNrnlao')\n",
      "('Black Sabbath', '5M52tdBnJaKSvOpJGz8mfZ')\n",
      "('Twisted Sister', '7b85ve82Sh36a3UAx74wut')\n",
      "('Motörhead', '1DFr97A9HnbV3SKTJFu62M')\n",
      "('Mötley Crüe', '0cc6vw3VN8YlIcvr1v7tBL')\n",
      "('Quiet Riot', '1dLWg6m8RRhizsdqJbhyj3')\n",
      "('ZZ Top', '2AM4ilv6UzW0uMRuqKtDgN')\n",
      "('The Cult', '49DW3KvkyjHO35mK1JnSyS')\n",
      "('Van Halen', '2cnMpRsOVqtPMfq7YiFE6K')\n",
      "('Rainbow', '6SLAMfhOi7UJI0fMztaK0m')\n"
     ]
    }
   ],
   "source": [
    "for i in range(len(interesa)):\n",
    "    print((interesa[i]['name'], interesa[i]['id']))"
   ]
  },
  {
   "cell_type": "code",
   "execution_count": 14,
   "id": "134cca4a",
   "metadata": {},
   "outputs": [
    {
     "data": {
      "text/plain": [
       "'https://api.spotify.com/v1/artists/711MCceyCBcFnzjGY4Q7Un/top-tracks?market=es'"
      ]
     },
     "execution_count": 14,
     "metadata": {},
     "output_type": "execute_result"
    }
   ],
   "source": [
    "top = base_url + resource + parameters + '/top-tracks' + '?market=es'\n",
    "top"
   ]
  },
  {
   "cell_type": "code",
   "execution_count": 15,
   "id": "a38b30d2",
   "metadata": {},
   "outputs": [
    {
     "name": "stdout",
     "output_type": "stream",
     "text": [
      "<class 'dict'>\n"
     ]
    },
    {
     "data": {
      "text/plain": [
       "{'tracks': [{'album': {'album_type': 'album',\n",
       "    'artists': [{'external_urls': {'spotify': 'https://open.spotify.com/artist/711MCceyCBcFnzjGY4Q7Un'},\n",
       "      'href': 'https://api.spotify.com/v1/artists/711MCceyCBcFnzjGY4Q7Un',\n",
       "      'id': '711MCceyCBcFnzjGY4Q7Un',\n",
       "      'name': 'AC/DC',\n",
       "      'type': 'artist',\n",
       "      'uri': 'spotify:artist:711MCceyCBcFnzjGY4Q7Un'}],\n",
       "    'external_urls': {'spotify': 'https://open.spotify.com/album/6mUdeDZCsExyJLMdAfDuwh'},\n",
       "    'href': 'https://api.spotify.com/v1/albums/6mUdeDZCsExyJLMdAfDuwh',\n",
       "    'id': '6mUdeDZCsExyJLMdAfDuwh',\n",
       "    'images': [{'height': 640,\n",
       "      'url': 'https://i.scdn.co/image/ab67616d0000b2730b51f8d91f3a21e8426361ae',\n",
       "      'width': 640},\n",
       "     {'height': 300,\n",
       "      'url': 'https://i.scdn.co/image/ab67616d00001e020b51f8d91f3a21e8426361ae',\n",
       "      'width': 300},\n",
       "     {'height': 64,\n",
       "      'url': 'https://i.scdn.co/image/ab67616d000048510b51f8d91f3a21e8426361ae',\n",
       "      'width': 64}],\n",
       "    'name': 'Back In Black',\n",
       "    'release_date': '1980-07-25',\n",
       "    'release_date_precision': 'day',\n",
       "    'total_tracks': 10,\n",
       "    'type': 'album',\n",
       "    'uri': 'spotify:album:6mUdeDZCsExyJLMdAfDuwh'},\n",
       "   'artists': [{'external_urls': {'spotify': 'https://open.spotify.com/artist/711MCceyCBcFnzjGY4Q7Un'},\n",
       "     'href': 'https://api.spotify.com/v1/artists/711MCceyCBcFnzjGY4Q7Un',\n",
       "     'id': '711MCceyCBcFnzjGY4Q7Un',\n",
       "     'name': 'AC/DC',\n",
       "     'type': 'artist',\n",
       "     'uri': 'spotify:artist:711MCceyCBcFnzjGY4Q7Un'}],\n",
       "   'disc_number': 1,\n",
       "   'duration_ms': 255493,\n",
       "   'explicit': False,\n",
       "   'external_ids': {'isrc': 'AUAP08000046'},\n",
       "   'external_urls': {'spotify': 'https://open.spotify.com/track/08mG3Y1vljYA6bvDt4Wqkj'},\n",
       "   'href': 'https://api.spotify.com/v1/tracks/08mG3Y1vljYA6bvDt4Wqkj',\n",
       "   'id': '08mG3Y1vljYA6bvDt4Wqkj',\n",
       "   'is_local': False,\n",
       "   'is_playable': True,\n",
       "   'name': 'Back In Black',\n",
       "   'popularity': 84,\n",
       "   'preview_url': 'https://p.scdn.co/mp3-preview/41f8586f16bc642b45122e52041143789a8e00c0?cid=719f591d9e8a4f1aab3d6263b279a211',\n",
       "   'track_number': 6,\n",
       "   'type': 'track',\n",
       "   'uri': 'spotify:track:08mG3Y1vljYA6bvDt4Wqkj'},\n",
       "  {'album': {'album_type': 'album',\n",
       "    'artists': [{'external_urls': {'spotify': 'https://open.spotify.com/artist/711MCceyCBcFnzjGY4Q7Un'},\n",
       "      'href': 'https://api.spotify.com/v1/artists/711MCceyCBcFnzjGY4Q7Un',\n",
       "      'id': '711MCceyCBcFnzjGY4Q7Un',\n",
       "      'name': 'AC/DC',\n",
       "      'type': 'artist',\n",
       "      'uri': 'spotify:artist:711MCceyCBcFnzjGY4Q7Un'}],\n",
       "    'external_urls': {'spotify': 'https://open.spotify.com/album/10v912xgTZbjAtYfyKWJCS'},\n",
       "    'href': 'https://api.spotify.com/v1/albums/10v912xgTZbjAtYfyKWJCS',\n",
       "    'id': '10v912xgTZbjAtYfyKWJCS',\n",
       "    'images': [{'height': 640,\n",
       "      'url': 'https://i.scdn.co/image/ab67616d0000b27351c02a77d09dfcd53c8676d0',\n",
       "      'width': 640},\n",
       "     {'height': 300,\n",
       "      'url': 'https://i.scdn.co/image/ab67616d00001e0251c02a77d09dfcd53c8676d0',\n",
       "      'width': 300},\n",
       "     {'height': 64,\n",
       "      'url': 'https://i.scdn.co/image/ab67616d0000485151c02a77d09dfcd53c8676d0',\n",
       "      'width': 64}],\n",
       "    'name': 'Highway to Hell',\n",
       "    'release_date': '1979-07-27',\n",
       "    'release_date_precision': 'day',\n",
       "    'total_tracks': 10,\n",
       "    'type': 'album',\n",
       "    'uri': 'spotify:album:10v912xgTZbjAtYfyKWJCS'},\n",
       "   'artists': [{'external_urls': {'spotify': 'https://open.spotify.com/artist/711MCceyCBcFnzjGY4Q7Un'},\n",
       "     'href': 'https://api.spotify.com/v1/artists/711MCceyCBcFnzjGY4Q7Un',\n",
       "     'id': '711MCceyCBcFnzjGY4Q7Un',\n",
       "     'name': 'AC/DC',\n",
       "     'type': 'artist',\n",
       "     'uri': 'spotify:artist:711MCceyCBcFnzjGY4Q7Un'}],\n",
       "   'disc_number': 1,\n",
       "   'duration_ms': 208400,\n",
       "   'explicit': False,\n",
       "   'external_ids': {'isrc': 'AUAP07900028'},\n",
       "   'external_urls': {'spotify': 'https://open.spotify.com/track/2zYzyRzz6pRmhPzyfMEC8s'},\n",
       "   'href': 'https://api.spotify.com/v1/tracks/2zYzyRzz6pRmhPzyfMEC8s',\n",
       "   'id': '2zYzyRzz6pRmhPzyfMEC8s',\n",
       "   'is_local': False,\n",
       "   'is_playable': True,\n",
       "   'name': 'Highway to Hell',\n",
       "   'popularity': 84,\n",
       "   'preview_url': 'https://p.scdn.co/mp3-preview/3589df13595d1ab1a2667db423b76c7e1e86ed73?cid=719f591d9e8a4f1aab3d6263b279a211',\n",
       "   'track_number': 1,\n",
       "   'type': 'track',\n",
       "   'uri': 'spotify:track:2zYzyRzz6pRmhPzyfMEC8s'},\n",
       "  {'album': {'album_type': 'album',\n",
       "    'artists': [{'external_urls': {'spotify': 'https://open.spotify.com/artist/711MCceyCBcFnzjGY4Q7Un'},\n",
       "      'href': 'https://api.spotify.com/v1/artists/711MCceyCBcFnzjGY4Q7Un',\n",
       "      'id': '711MCceyCBcFnzjGY4Q7Un',\n",
       "      'name': 'AC/DC',\n",
       "      'type': 'artist',\n",
       "      'uri': 'spotify:artist:711MCceyCBcFnzjGY4Q7Un'}],\n",
       "    'external_urls': {'spotify': 'https://open.spotify.com/album/4vu7F6h90Br1ZtYYaqfITy'},\n",
       "    'href': 'https://api.spotify.com/v1/albums/4vu7F6h90Br1ZtYYaqfITy',\n",
       "    'id': '4vu7F6h90Br1ZtYYaqfITy',\n",
       "    'images': [{'height': 640,\n",
       "      'url': 'https://i.scdn.co/image/ab67616d0000b2738399047ff71200928f5b6508',\n",
       "      'width': 640},\n",
       "     {'height': 300,\n",
       "      'url': 'https://i.scdn.co/image/ab67616d00001e028399047ff71200928f5b6508',\n",
       "      'width': 300},\n",
       "     {'height': 64,\n",
       "      'url': 'https://i.scdn.co/image/ab67616d000048518399047ff71200928f5b6508',\n",
       "      'width': 64}],\n",
       "    'name': 'The Razors Edge',\n",
       "    'release_date': '1990-09-24',\n",
       "    'release_date_precision': 'day',\n",
       "    'total_tracks': 12,\n",
       "    'type': 'album',\n",
       "    'uri': 'spotify:album:4vu7F6h90Br1ZtYYaqfITy'},\n",
       "   'artists': [{'external_urls': {'spotify': 'https://open.spotify.com/artist/711MCceyCBcFnzjGY4Q7Un'},\n",
       "     'href': 'https://api.spotify.com/v1/artists/711MCceyCBcFnzjGY4Q7Un',\n",
       "     'id': '711MCceyCBcFnzjGY4Q7Un',\n",
       "     'name': 'AC/DC',\n",
       "     'type': 'artist',\n",
       "     'uri': 'spotify:artist:711MCceyCBcFnzjGY4Q7Un'}],\n",
       "   'disc_number': 1,\n",
       "   'duration_ms': 292880,\n",
       "   'explicit': False,\n",
       "   'external_ids': {'isrc': 'AUAP09000014'},\n",
       "   'external_urls': {'spotify': 'https://open.spotify.com/track/57bgtoPSgt236HzfBOd8kj'},\n",
       "   'href': 'https://api.spotify.com/v1/tracks/57bgtoPSgt236HzfBOd8kj',\n",
       "   'id': '57bgtoPSgt236HzfBOd8kj',\n",
       "   'is_local': False,\n",
       "   'is_playable': True,\n",
       "   'name': 'Thunderstruck',\n",
       "   'popularity': 84,\n",
       "   'preview_url': 'https://p.scdn.co/mp3-preview/01b367e5b8032faf123793fe7c1c5e7daf4cc7ed?cid=719f591d9e8a4f1aab3d6263b279a211',\n",
       "   'track_number': 1,\n",
       "   'type': 'track',\n",
       "   'uri': 'spotify:track:57bgtoPSgt236HzfBOd8kj'},\n",
       "  {'album': {'album_type': 'album',\n",
       "    'artists': [{'external_urls': {'spotify': 'https://open.spotify.com/artist/711MCceyCBcFnzjGY4Q7Un'},\n",
       "      'href': 'https://api.spotify.com/v1/artists/711MCceyCBcFnzjGY4Q7Un',\n",
       "      'id': '711MCceyCBcFnzjGY4Q7Un',\n",
       "      'name': 'AC/DC',\n",
       "      'type': 'artist',\n",
       "      'uri': 'spotify:artist:711MCceyCBcFnzjGY4Q7Un'}],\n",
       "    'external_urls': {'spotify': 'https://open.spotify.com/album/6mUdeDZCsExyJLMdAfDuwh'},\n",
       "    'href': 'https://api.spotify.com/v1/albums/6mUdeDZCsExyJLMdAfDuwh',\n",
       "    'id': '6mUdeDZCsExyJLMdAfDuwh',\n",
       "    'images': [{'height': 640,\n",
       "      'url': 'https://i.scdn.co/image/ab67616d0000b2730b51f8d91f3a21e8426361ae',\n",
       "      'width': 640},\n",
       "     {'height': 300,\n",
       "      'url': 'https://i.scdn.co/image/ab67616d00001e020b51f8d91f3a21e8426361ae',\n",
       "      'width': 300},\n",
       "     {'height': 64,\n",
       "      'url': 'https://i.scdn.co/image/ab67616d000048510b51f8d91f3a21e8426361ae',\n",
       "      'width': 64}],\n",
       "    'name': 'Back In Black',\n",
       "    'release_date': '1980-07-25',\n",
       "    'release_date_precision': 'day',\n",
       "    'total_tracks': 10,\n",
       "    'type': 'album',\n",
       "    'uri': 'spotify:album:6mUdeDZCsExyJLMdAfDuwh'},\n",
       "   'artists': [{'external_urls': {'spotify': 'https://open.spotify.com/artist/711MCceyCBcFnzjGY4Q7Un'},\n",
       "     'href': 'https://api.spotify.com/v1/artists/711MCceyCBcFnzjGY4Q7Un',\n",
       "     'id': '711MCceyCBcFnzjGY4Q7Un',\n",
       "     'name': 'AC/DC',\n",
       "     'type': 'artist',\n",
       "     'uri': 'spotify:artist:711MCceyCBcFnzjGY4Q7Un'}],\n",
       "   'disc_number': 1,\n",
       "   'duration_ms': 210173,\n",
       "   'explicit': False,\n",
       "   'external_ids': {'isrc': 'AUAP08000047'},\n",
       "   'external_urls': {'spotify': 'https://open.spotify.com/track/2SiXAy7TuUkycRVbbWDEpo'},\n",
       "   'href': 'https://api.spotify.com/v1/tracks/2SiXAy7TuUkycRVbbWDEpo',\n",
       "   'id': '2SiXAy7TuUkycRVbbWDEpo',\n",
       "   'is_local': False,\n",
       "   'is_playable': True,\n",
       "   'name': 'You Shook Me All Night Long',\n",
       "   'popularity': 81,\n",
       "   'preview_url': 'https://p.scdn.co/mp3-preview/ca7869f25dd152e58aa5a37addf6d44f7da1fe21?cid=719f591d9e8a4f1aab3d6263b279a211',\n",
       "   'track_number': 7,\n",
       "   'type': 'track',\n",
       "   'uri': 'spotify:track:2SiXAy7TuUkycRVbbWDEpo'},\n",
       "  {'album': {'album_type': 'album',\n",
       "    'artists': [{'external_urls': {'spotify': 'https://open.spotify.com/artist/711MCceyCBcFnzjGY4Q7Un'},\n",
       "      'href': 'https://api.spotify.com/v1/artists/711MCceyCBcFnzjGY4Q7Un',\n",
       "      'id': '711MCceyCBcFnzjGY4Q7Un',\n",
       "      'name': 'AC/DC',\n",
       "      'type': 'artist',\n",
       "      'uri': 'spotify:artist:711MCceyCBcFnzjGY4Q7Un'}],\n",
       "    'external_urls': {'spotify': 'https://open.spotify.com/album/19AUoKWRAaQYrggVvdQnqq'},\n",
       "    'href': 'https://api.spotify.com/v1/albums/19AUoKWRAaQYrggVvdQnqq',\n",
       "    'id': '19AUoKWRAaQYrggVvdQnqq',\n",
       "    'images': [{'height': 640,\n",
       "      'url': 'https://i.scdn.co/image/ab67616d0000b273286a0837ff3424065a735e0a',\n",
       "      'width': 640},\n",
       "     {'height': 300,\n",
       "      'url': 'https://i.scdn.co/image/ab67616d00001e02286a0837ff3424065a735e0a',\n",
       "      'width': 300},\n",
       "     {'height': 64,\n",
       "      'url': 'https://i.scdn.co/image/ab67616d00004851286a0837ff3424065a735e0a',\n",
       "      'width': 64}],\n",
       "    'name': 'High Voltage',\n",
       "    'release_date': '1976-05-14',\n",
       "    'release_date_precision': 'day',\n",
       "    'total_tracks': 9,\n",
       "    'type': 'album',\n",
       "    'uri': 'spotify:album:19AUoKWRAaQYrggVvdQnqq'},\n",
       "   'artists': [{'external_urls': {'spotify': 'https://open.spotify.com/artist/711MCceyCBcFnzjGY4Q7Un'},\n",
       "     'href': 'https://api.spotify.com/v1/artists/711MCceyCBcFnzjGY4Q7Un',\n",
       "     'id': '711MCceyCBcFnzjGY4Q7Un',\n",
       "     'name': 'AC/DC',\n",
       "     'type': 'artist',\n",
       "     'uri': 'spotify:artist:711MCceyCBcFnzjGY4Q7Un'}],\n",
       "   'disc_number': 1,\n",
       "   'duration_ms': 214666,\n",
       "   'explicit': False,\n",
       "   'external_ids': {'isrc': 'AUAP07600012'},\n",
       "   'external_urls': {'spotify': 'https://open.spotify.com/track/7LRMbd3LEoV5wZJvXT1Lwb'},\n",
       "   'href': 'https://api.spotify.com/v1/tracks/7LRMbd3LEoV5wZJvXT1Lwb',\n",
       "   'id': '7LRMbd3LEoV5wZJvXT1Lwb',\n",
       "   'is_local': False,\n",
       "   'is_playable': True,\n",
       "   'name': 'T.N.T.',\n",
       "   'popularity': 78,\n",
       "   'preview_url': 'https://p.scdn.co/mp3-preview/724a59c766540784b7e4f3c42384077dc6b940f7?cid=719f591d9e8a4f1aab3d6263b279a211',\n",
       "   'track_number': 5,\n",
       "   'type': 'track',\n",
       "   'uri': 'spotify:track:7LRMbd3LEoV5wZJvXT1Lwb'},\n",
       "  {'album': {'album_type': 'album',\n",
       "    'artists': [{'external_urls': {'spotify': 'https://open.spotify.com/artist/711MCceyCBcFnzjGY4Q7Un'},\n",
       "      'href': 'https://api.spotify.com/v1/artists/711MCceyCBcFnzjGY4Q7Un',\n",
       "      'id': '711MCceyCBcFnzjGY4Q7Un',\n",
       "      'name': 'AC/DC',\n",
       "      'type': 'artist',\n",
       "      'uri': 'spotify:artist:711MCceyCBcFnzjGY4Q7Un'}],\n",
       "    'external_urls': {'spotify': 'https://open.spotify.com/album/76mvVgXOde87B9aOzLXCOI'},\n",
       "    'href': 'https://api.spotify.com/v1/albums/76mvVgXOde87B9aOzLXCOI',\n",
       "    'id': '76mvVgXOde87B9aOzLXCOI',\n",
       "    'images': [{'height': 640,\n",
       "      'url': 'https://i.scdn.co/image/ab67616d0000b27368b03027356fb05501948f62',\n",
       "      'width': 640},\n",
       "     {'height': 300,\n",
       "      'url': 'https://i.scdn.co/image/ab67616d00001e0268b03027356fb05501948f62',\n",
       "      'width': 300},\n",
       "     {'height': 64,\n",
       "      'url': 'https://i.scdn.co/image/ab67616d0000485168b03027356fb05501948f62',\n",
       "      'width': 64}],\n",
       "    'name': 'Dirty Deeds Done Dirt Cheap',\n",
       "    'release_date': '1976-09-20',\n",
       "    'release_date_precision': 'day',\n",
       "    'total_tracks': 9,\n",
       "    'type': 'album',\n",
       "    'uri': 'spotify:album:76mvVgXOde87B9aOzLXCOI'},\n",
       "   'artists': [{'external_urls': {'spotify': 'https://open.spotify.com/artist/711MCceyCBcFnzjGY4Q7Un'},\n",
       "     'href': 'https://api.spotify.com/v1/artists/711MCceyCBcFnzjGY4Q7Un',\n",
       "     'id': '711MCceyCBcFnzjGY4Q7Un',\n",
       "     'name': 'AC/DC',\n",
       "     'type': 'artist',\n",
       "     'uri': 'spotify:artist:711MCceyCBcFnzjGY4Q7Un'}],\n",
       "   'disc_number': 1,\n",
       "   'duration_ms': 231933,\n",
       "   'explicit': False,\n",
       "   'external_ids': {'isrc': 'AUAP07600046'},\n",
       "   'external_urls': {'spotify': 'https://open.spotify.com/track/2d4e45fmUnguxh6yqC7gNT'},\n",
       "   'href': 'https://api.spotify.com/v1/tracks/2d4e45fmUnguxh6yqC7gNT',\n",
       "   'id': '2d4e45fmUnguxh6yqC7gNT',\n",
       "   'is_local': False,\n",
       "   'is_playable': True,\n",
       "   'name': 'Dirty Deeds Done Dirt Cheap',\n",
       "   'popularity': 74,\n",
       "   'preview_url': 'https://p.scdn.co/mp3-preview/89b1321891a393915cbcfc50de4e3ed3ff462ebb?cid=719f591d9e8a4f1aab3d6263b279a211',\n",
       "   'track_number': 1,\n",
       "   'type': 'track',\n",
       "   'uri': 'spotify:track:2d4e45fmUnguxh6yqC7gNT'},\n",
       "  {'album': {'album_type': 'album',\n",
       "    'artists': [{'external_urls': {'spotify': 'https://open.spotify.com/artist/711MCceyCBcFnzjGY4Q7Un'},\n",
       "      'href': 'https://api.spotify.com/v1/artists/711MCceyCBcFnzjGY4Q7Un',\n",
       "      'id': '711MCceyCBcFnzjGY4Q7Un',\n",
       "      'name': 'AC/DC',\n",
       "      'type': 'artist',\n",
       "      'uri': 'spotify:artist:711MCceyCBcFnzjGY4Q7Un'}],\n",
       "    'external_urls': {'spotify': 'https://open.spotify.com/album/6mUdeDZCsExyJLMdAfDuwh'},\n",
       "    'href': 'https://api.spotify.com/v1/albums/6mUdeDZCsExyJLMdAfDuwh',\n",
       "    'id': '6mUdeDZCsExyJLMdAfDuwh',\n",
       "    'images': [{'height': 640,\n",
       "      'url': 'https://i.scdn.co/image/ab67616d0000b2730b51f8d91f3a21e8426361ae',\n",
       "      'width': 640},\n",
       "     {'height': 300,\n",
       "      'url': 'https://i.scdn.co/image/ab67616d00001e020b51f8d91f3a21e8426361ae',\n",
       "      'width': 300},\n",
       "     {'height': 64,\n",
       "      'url': 'https://i.scdn.co/image/ab67616d000048510b51f8d91f3a21e8426361ae',\n",
       "      'width': 64}],\n",
       "    'name': 'Back In Black',\n",
       "    'release_date': '1980-07-25',\n",
       "    'release_date_precision': 'day',\n",
       "    'total_tracks': 10,\n",
       "    'type': 'album',\n",
       "    'uri': 'spotify:album:6mUdeDZCsExyJLMdAfDuwh'},\n",
       "   'artists': [{'external_urls': {'spotify': 'https://open.spotify.com/artist/711MCceyCBcFnzjGY4Q7Un'},\n",
       "     'href': 'https://api.spotify.com/v1/artists/711MCceyCBcFnzjGY4Q7Un',\n",
       "     'id': '711MCceyCBcFnzjGY4Q7Un',\n",
       "     'name': 'AC/DC',\n",
       "     'type': 'artist',\n",
       "     'uri': 'spotify:artist:711MCceyCBcFnzjGY4Q7Un'}],\n",
       "   'disc_number': 1,\n",
       "   'duration_ms': 312293,\n",
       "   'explicit': False,\n",
       "   'external_ids': {'isrc': 'AUAP08000041'},\n",
       "   'external_urls': {'spotify': 'https://open.spotify.com/track/69QHm3pustz01CJRwdo20z'},\n",
       "   'href': 'https://api.spotify.com/v1/tracks/69QHm3pustz01CJRwdo20z',\n",
       "   'id': '69QHm3pustz01CJRwdo20z',\n",
       "   'is_local': False,\n",
       "   'is_playable': True,\n",
       "   'name': 'Hells Bells',\n",
       "   'popularity': 74,\n",
       "   'preview_url': 'https://p.scdn.co/mp3-preview/09288fbe4af0cb6285e668b720d4d511c7903404?cid=719f591d9e8a4f1aab3d6263b279a211',\n",
       "   'track_number': 1,\n",
       "   'type': 'track',\n",
       "   'uri': 'spotify:track:69QHm3pustz01CJRwdo20z'},\n",
       "  {'album': {'album_type': 'album',\n",
       "    'artists': [{'external_urls': {'spotify': 'https://open.spotify.com/artist/711MCceyCBcFnzjGY4Q7Un'},\n",
       "      'href': 'https://api.spotify.com/v1/artists/711MCceyCBcFnzjGY4Q7Un',\n",
       "      'id': '711MCceyCBcFnzjGY4Q7Un',\n",
       "      'name': 'AC/DC',\n",
       "      'type': 'artist',\n",
       "      'uri': 'spotify:artist:711MCceyCBcFnzjGY4Q7Un'}],\n",
       "    'external_urls': {'spotify': 'https://open.spotify.com/album/6mUdeDZCsExyJLMdAfDuwh'},\n",
       "    'href': 'https://api.spotify.com/v1/albums/6mUdeDZCsExyJLMdAfDuwh',\n",
       "    'id': '6mUdeDZCsExyJLMdAfDuwh',\n",
       "    'images': [{'height': 640,\n",
       "      'url': 'https://i.scdn.co/image/ab67616d0000b2730b51f8d91f3a21e8426361ae',\n",
       "      'width': 640},\n",
       "     {'height': 300,\n",
       "      'url': 'https://i.scdn.co/image/ab67616d00001e020b51f8d91f3a21e8426361ae',\n",
       "      'width': 300},\n",
       "     {'height': 64,\n",
       "      'url': 'https://i.scdn.co/image/ab67616d000048510b51f8d91f3a21e8426361ae',\n",
       "      'width': 64}],\n",
       "    'name': 'Back In Black',\n",
       "    'release_date': '1980-07-25',\n",
       "    'release_date_precision': 'day',\n",
       "    'total_tracks': 10,\n",
       "    'type': 'album',\n",
       "    'uri': 'spotify:album:6mUdeDZCsExyJLMdAfDuwh'},\n",
       "   'artists': [{'external_urls': {'spotify': 'https://open.spotify.com/artist/711MCceyCBcFnzjGY4Q7Un'},\n",
       "     'href': 'https://api.spotify.com/v1/artists/711MCceyCBcFnzjGY4Q7Un',\n",
       "     'id': '711MCceyCBcFnzjGY4Q7Un',\n",
       "     'name': 'AC/DC',\n",
       "     'type': 'artist',\n",
       "     'uri': 'spotify:artist:711MCceyCBcFnzjGY4Q7Un'}],\n",
       "   'disc_number': 1,\n",
       "   'duration_ms': 317426,\n",
       "   'explicit': False,\n",
       "   'external_ids': {'isrc': 'AUAP08000042'},\n",
       "   'external_urls': {'spotify': 'https://open.spotify.com/track/0C80GCp0mMuBzLf3EAXqxv'},\n",
       "   'href': 'https://api.spotify.com/v1/tracks/0C80GCp0mMuBzLf3EAXqxv',\n",
       "   'id': '0C80GCp0mMuBzLf3EAXqxv',\n",
       "   'is_local': False,\n",
       "   'is_playable': True,\n",
       "   'name': 'Shoot to Thrill',\n",
       "   'popularity': 73,\n",
       "   'preview_url': 'https://p.scdn.co/mp3-preview/d573c9546bde51fec4738c55c3168da7a77b6a20?cid=719f591d9e8a4f1aab3d6263b279a211',\n",
       "   'track_number': 2,\n",
       "   'type': 'track',\n",
       "   'uri': 'spotify:track:0C80GCp0mMuBzLf3EAXqxv'},\n",
       "  {'album': {'album_type': 'album',\n",
       "    'artists': [{'external_urls': {'spotify': 'https://open.spotify.com/artist/711MCceyCBcFnzjGY4Q7Un'},\n",
       "      'href': 'https://api.spotify.com/v1/artists/711MCceyCBcFnzjGY4Q7Un',\n",
       "      'id': '711MCceyCBcFnzjGY4Q7Un',\n",
       "      'name': 'AC/DC',\n",
       "      'type': 'artist',\n",
       "      'uri': 'spotify:artist:711MCceyCBcFnzjGY4Q7Un'}],\n",
       "    'external_urls': {'spotify': 'https://open.spotify.com/album/19AUoKWRAaQYrggVvdQnqq'},\n",
       "    'href': 'https://api.spotify.com/v1/albums/19AUoKWRAaQYrggVvdQnqq',\n",
       "    'id': '19AUoKWRAaQYrggVvdQnqq',\n",
       "    'images': [{'height': 640,\n",
       "      'url': 'https://i.scdn.co/image/ab67616d0000b273286a0837ff3424065a735e0a',\n",
       "      'width': 640},\n",
       "     {'height': 300,\n",
       "      'url': 'https://i.scdn.co/image/ab67616d00001e02286a0837ff3424065a735e0a',\n",
       "      'width': 300},\n",
       "     {'height': 64,\n",
       "      'url': 'https://i.scdn.co/image/ab67616d00004851286a0837ff3424065a735e0a',\n",
       "      'width': 64}],\n",
       "    'name': 'High Voltage',\n",
       "    'release_date': '1976-05-14',\n",
       "    'release_date_precision': 'day',\n",
       "    'total_tracks': 9,\n",
       "    'type': 'album',\n",
       "    'uri': 'spotify:album:19AUoKWRAaQYrggVvdQnqq'},\n",
       "   'artists': [{'external_urls': {'spotify': 'https://open.spotify.com/artist/711MCceyCBcFnzjGY4Q7Un'},\n",
       "     'href': 'https://api.spotify.com/v1/artists/711MCceyCBcFnzjGY4Q7Un',\n",
       "     'id': '711MCceyCBcFnzjGY4Q7Un',\n",
       "     'name': 'AC/DC',\n",
       "     'type': 'artist',\n",
       "     'uri': 'spotify:artist:711MCceyCBcFnzjGY4Q7Un'}],\n",
       "   'disc_number': 1,\n",
       "   'duration_ms': 301226,\n",
       "   'explicit': False,\n",
       "   'external_ids': {'isrc': 'USEW17500002'},\n",
       "   'external_urls': {'spotify': 'https://open.spotify.com/track/7nemcVsXVFZF01iqpIIo2Y'},\n",
       "   'href': 'https://api.spotify.com/v1/tracks/7nemcVsXVFZF01iqpIIo2Y',\n",
       "   'id': '7nemcVsXVFZF01iqpIIo2Y',\n",
       "   'is_local': False,\n",
       "   'is_playable': True,\n",
       "   'name': \"It's a Long Way to the Top (If You Wanna Rock 'N' Roll)\",\n",
       "   'popularity': 72,\n",
       "   'preview_url': 'https://p.scdn.co/mp3-preview/bf40053ffd94309d3e523c9aa520f0f376e32f7a?cid=719f591d9e8a4f1aab3d6263b279a211',\n",
       "   'track_number': 1,\n",
       "   'type': 'track',\n",
       "   'uri': 'spotify:track:7nemcVsXVFZF01iqpIIo2Y'},\n",
       "  {'album': {'album_type': 'album',\n",
       "    'artists': [{'external_urls': {'spotify': 'https://open.spotify.com/artist/711MCceyCBcFnzjGY4Q7Un'},\n",
       "      'href': 'https://api.spotify.com/v1/artists/711MCceyCBcFnzjGY4Q7Un',\n",
       "      'id': '711MCceyCBcFnzjGY4Q7Un',\n",
       "      'name': 'AC/DC',\n",
       "      'type': 'artist',\n",
       "      'uri': 'spotify:artist:711MCceyCBcFnzjGY4Q7Un'}],\n",
       "    'external_urls': {'spotify': 'https://open.spotify.com/album/7qVfz4UGONwEd5nQjj0ESN'},\n",
       "    'href': 'https://api.spotify.com/v1/albums/7qVfz4UGONwEd5nQjj0ESN',\n",
       "    'id': '7qVfz4UGONwEd5nQjj0ESN',\n",
       "    'images': [{'height': 640,\n",
       "      'url': 'https://i.scdn.co/image/ab67616d0000b273107d182a8d39586f8f3f23a0',\n",
       "      'width': 640},\n",
       "     {'height': 300,\n",
       "      'url': 'https://i.scdn.co/image/ab67616d00001e02107d182a8d39586f8f3f23a0',\n",
       "      'width': 300},\n",
       "     {'height': 64,\n",
       "      'url': 'https://i.scdn.co/image/ab67616d00004851107d182a8d39586f8f3f23a0',\n",
       "      'width': 64}],\n",
       "    'name': 'Black Ice',\n",
       "    'release_date': '2008-10-20',\n",
       "    'release_date_precision': 'day',\n",
       "    'total_tracks': 15,\n",
       "    'type': 'album',\n",
       "    'uri': 'spotify:album:7qVfz4UGONwEd5nQjj0ESN'},\n",
       "   'artists': [{'external_urls': {'spotify': 'https://open.spotify.com/artist/711MCceyCBcFnzjGY4Q7Un'},\n",
       "     'href': 'https://api.spotify.com/v1/artists/711MCceyCBcFnzjGY4Q7Un',\n",
       "     'id': '711MCceyCBcFnzjGY4Q7Un',\n",
       "     'name': 'AC/DC',\n",
       "     'type': 'artist',\n",
       "     'uri': 'spotify:artist:711MCceyCBcFnzjGY4Q7Un'}],\n",
       "   'disc_number': 1,\n",
       "   'duration_ms': 261506,\n",
       "   'explicit': False,\n",
       "   'external_ids': {'isrc': 'USSM10802975'},\n",
       "   'external_urls': {'spotify': 'https://open.spotify.com/track/4feXJ5IC3avXsVW9WNFSag'},\n",
       "   'href': 'https://api.spotify.com/v1/tracks/4feXJ5IC3avXsVW9WNFSag',\n",
       "   'id': '4feXJ5IC3avXsVW9WNFSag',\n",
       "   'is_local': False,\n",
       "   'is_playable': True,\n",
       "   'name': 'Rock N Roll Train',\n",
       "   'popularity': 70,\n",
       "   'preview_url': 'https://p.scdn.co/mp3-preview/461d1958b88bba403b7e184991ed44a1dcb20eb8?cid=719f591d9e8a4f1aab3d6263b279a211',\n",
       "   'track_number': 1,\n",
       "   'type': 'track',\n",
       "   'uri': 'spotify:track:4feXJ5IC3avXsVW9WNFSag'}]}"
      ]
     },
     "execution_count": 15,
     "metadata": {},
     "output_type": "execute_result"
    }
   ],
   "source": [
    "r_top = requests.get(top, headers=header).json()\n",
    "print(type(r_top))\n",
    "r_top.keys()\n",
    "r_top"
   ]
  },
  {
   "cell_type": "code",
   "execution_count": 16,
   "id": "9f994a04",
   "metadata": {},
   "outputs": [
    {
     "name": "stdout",
     "output_type": "stream",
     "text": [
      "<class 'list'>\n"
     ]
    },
    {
     "data": {
      "text/plain": [
       "10"
      ]
     },
     "execution_count": 16,
     "metadata": {},
     "output_type": "execute_result"
    }
   ],
   "source": [
    "interesa_2 = r_top['tracks']\n",
    "print(type(interesa_2))\n",
    "len(interesa_2)"
   ]
  },
  {
   "cell_type": "code",
   "execution_count": 17,
   "id": "004374a9",
   "metadata": {},
   "outputs": [
    {
     "data": {
      "text/plain": [
       "{'album': {'album_type': 'album',\n",
       "  'artists': [{'external_urls': {'spotify': 'https://open.spotify.com/artist/711MCceyCBcFnzjGY4Q7Un'},\n",
       "    'href': 'https://api.spotify.com/v1/artists/711MCceyCBcFnzjGY4Q7Un',\n",
       "    'id': '711MCceyCBcFnzjGY4Q7Un',\n",
       "    'name': 'AC/DC',\n",
       "    'type': 'artist',\n",
       "    'uri': 'spotify:artist:711MCceyCBcFnzjGY4Q7Un'}],\n",
       "  'external_urls': {'spotify': 'https://open.spotify.com/album/6mUdeDZCsExyJLMdAfDuwh'},\n",
       "  'href': 'https://api.spotify.com/v1/albums/6mUdeDZCsExyJLMdAfDuwh',\n",
       "  'id': '6mUdeDZCsExyJLMdAfDuwh',\n",
       "  'images': [{'height': 640,\n",
       "    'url': 'https://i.scdn.co/image/ab67616d0000b2730b51f8d91f3a21e8426361ae',\n",
       "    'width': 640},\n",
       "   {'height': 300,\n",
       "    'url': 'https://i.scdn.co/image/ab67616d00001e020b51f8d91f3a21e8426361ae',\n",
       "    'width': 300},\n",
       "   {'height': 64,\n",
       "    'url': 'https://i.scdn.co/image/ab67616d000048510b51f8d91f3a21e8426361ae',\n",
       "    'width': 64}],\n",
       "  'name': 'Back In Black',\n",
       "  'release_date': '1980-07-25',\n",
       "  'release_date_precision': 'day',\n",
       "  'total_tracks': 10,\n",
       "  'type': 'album',\n",
       "  'uri': 'spotify:album:6mUdeDZCsExyJLMdAfDuwh'},\n",
       " 'artists': [{'external_urls': {'spotify': 'https://open.spotify.com/artist/711MCceyCBcFnzjGY4Q7Un'},\n",
       "   'href': 'https://api.spotify.com/v1/artists/711MCceyCBcFnzjGY4Q7Un',\n",
       "   'id': '711MCceyCBcFnzjGY4Q7Un',\n",
       "   'name': 'AC/DC',\n",
       "   'type': 'artist',\n",
       "   'uri': 'spotify:artist:711MCceyCBcFnzjGY4Q7Un'}],\n",
       " 'disc_number': 1,\n",
       " 'duration_ms': 255493,\n",
       " 'explicit': False,\n",
       " 'external_ids': {'isrc': 'AUAP08000046'},\n",
       " 'external_urls': {'spotify': 'https://open.spotify.com/track/08mG3Y1vljYA6bvDt4Wqkj'},\n",
       " 'href': 'https://api.spotify.com/v1/tracks/08mG3Y1vljYA6bvDt4Wqkj',\n",
       " 'id': '08mG3Y1vljYA6bvDt4Wqkj',\n",
       " 'is_local': False,\n",
       " 'is_playable': True,\n",
       " 'name': 'Back In Black',\n",
       " 'popularity': 84,\n",
       " 'preview_url': 'https://p.scdn.co/mp3-preview/41f8586f16bc642b45122e52041143789a8e00c0?cid=719f591d9e8a4f1aab3d6263b279a211',\n",
       " 'track_number': 6,\n",
       " 'type': 'track',\n",
       " 'uri': 'spotify:track:08mG3Y1vljYA6bvDt4Wqkj'}"
      ]
     },
     "execution_count": 17,
     "metadata": {},
     "output_type": "execute_result"
    }
   ],
   "source": [
    "interesa_2[0]"
   ]
  },
  {
   "cell_type": "code",
   "execution_count": 18,
   "id": "004b75dd",
   "metadata": {},
   "outputs": [
    {
     "data": {
      "text/plain": [
       "dict_keys(['album', 'artists', 'disc_number', 'duration_ms', 'explicit', 'external_ids', 'external_urls', 'href', 'id', 'is_local', 'is_playable', 'name', 'popularity', 'preview_url', 'track_number', 'type', 'uri'])"
      ]
     },
     "execution_count": 18,
     "metadata": {},
     "output_type": "execute_result"
    }
   ],
   "source": [
    "interesa_2[0].keys()\n"
   ]
  },
  {
   "cell_type": "code",
   "execution_count": 19,
   "id": "e581b2c0",
   "metadata": {},
   "outputs": [
    {
     "data": {
      "text/plain": [
       "'Back In Black'"
      ]
     },
     "execution_count": 19,
     "metadata": {},
     "output_type": "execute_result"
    }
   ],
   "source": [
    "interesa_2[0]['name']"
   ]
  },
  {
   "cell_type": "markdown",
   "id": "9436b623",
   "metadata": {},
   "source": [
    "---"
   ]
  },
  {
   "cell_type": "code",
   "execution_count": 20,
   "id": "5cc7f6fb",
   "metadata": {},
   "outputs": [
    {
     "name": "stdout",
     "output_type": "stream",
     "text": [
      "('Back In Black', '08mG3Y1vljYA6bvDt4Wqkj')\n",
      "('Highway to Hell', '2zYzyRzz6pRmhPzyfMEC8s')\n",
      "('Thunderstruck', '57bgtoPSgt236HzfBOd8kj')\n",
      "('You Shook Me All Night Long', '2SiXAy7TuUkycRVbbWDEpo')\n",
      "('T.N.T.', '7LRMbd3LEoV5wZJvXT1Lwb')\n",
      "('Dirty Deeds Done Dirt Cheap', '2d4e45fmUnguxh6yqC7gNT')\n",
      "('Hells Bells', '69QHm3pustz01CJRwdo20z')\n",
      "('Shoot to Thrill', '0C80GCp0mMuBzLf3EAXqxv')\n",
      "(\"It's a Long Way to the Top (If You Wanna Rock 'N' Roll)\", '7nemcVsXVFZF01iqpIIo2Y')\n",
      "('Rock N Roll Train', '4feXJ5IC3avXsVW9WNFSag')\n"
     ]
    }
   ],
   "source": [
    "for i in range (len(interesa_2)):\n",
    "    print ((interesa_2[i]['name'], interesa_2[i]['id']))"
   ]
  },
  {
   "cell_type": "code",
   "execution_count": 21,
   "id": "46256595",
   "metadata": {},
   "outputs": [
    {
     "ename": "ValueError",
     "evalue": "Length of values (20) does not match length of index (10)",
     "output_type": "error",
     "traceback": [
      "\u001b[1;31m---------------------------------------------------------------------------\u001b[0m",
      "\u001b[1;31mValueError\u001b[0m                                Traceback (most recent call last)",
      "Input \u001b[1;32mIn [21]\u001b[0m, in \u001b[0;36m<cell line: 1>\u001b[1;34m()\u001b[0m\n\u001b[1;32m----> 1\u001b[0m Playlist \u001b[38;5;241m=\u001b[39m \u001b[43mpd\u001b[49m\u001b[38;5;241;43m.\u001b[39;49m\u001b[43mDataFrame\u001b[49m\u001b[43m(\u001b[49m\u001b[43minteresa\u001b[49m\u001b[43m,\u001b[49m\u001b[43m \u001b[49m\u001b[43minteresa_2\u001b[49m\u001b[43m)\u001b[49m\n",
      "File \u001b[1;32m~\\miniconda3\\envs\\m1_ih\\lib\\site-packages\\pandas\\core\\frame.py:729\u001b[0m, in \u001b[0;36mDataFrame.__init__\u001b[1;34m(self, data, index, columns, dtype, copy)\u001b[0m\n\u001b[0;32m    720\u001b[0m         columns \u001b[38;5;241m=\u001b[39m ensure_index(columns)  \u001b[38;5;66;03m# type: ignore[arg-type]\u001b[39;00m\n\u001b[0;32m    721\u001b[0m     arrays, columns, index \u001b[38;5;241m=\u001b[39m nested_data_to_arrays(\n\u001b[0;32m    722\u001b[0m         \u001b[38;5;66;03m# error: Argument 3 to \"nested_data_to_arrays\" has incompatible\u001b[39;00m\n\u001b[0;32m    723\u001b[0m         \u001b[38;5;66;03m# type \"Optional[Collection[Any]]\"; expected \"Optional[Index]\"\u001b[39;00m\n\u001b[1;32m   (...)\u001b[0m\n\u001b[0;32m    727\u001b[0m         dtype,\n\u001b[0;32m    728\u001b[0m     )\n\u001b[1;32m--> 729\u001b[0m     mgr \u001b[38;5;241m=\u001b[39m \u001b[43marrays_to_mgr\u001b[49m\u001b[43m(\u001b[49m\n\u001b[0;32m    730\u001b[0m \u001b[43m        \u001b[49m\u001b[43marrays\u001b[49m\u001b[43m,\u001b[49m\n\u001b[0;32m    731\u001b[0m \u001b[43m        \u001b[49m\u001b[43mcolumns\u001b[49m\u001b[43m,\u001b[49m\n\u001b[0;32m    732\u001b[0m \u001b[43m        \u001b[49m\u001b[43mindex\u001b[49m\u001b[43m,\u001b[49m\n\u001b[0;32m    733\u001b[0m \u001b[43m        \u001b[49m\u001b[43mdtype\u001b[49m\u001b[38;5;241;43m=\u001b[39;49m\u001b[43mdtype\u001b[49m\u001b[43m,\u001b[49m\n\u001b[0;32m    734\u001b[0m \u001b[43m        \u001b[49m\u001b[43mtyp\u001b[49m\u001b[38;5;241;43m=\u001b[39;49m\u001b[43mmanager\u001b[49m\u001b[43m,\u001b[49m\n\u001b[0;32m    735\u001b[0m \u001b[43m    \u001b[49m\u001b[43m)\u001b[49m\n\u001b[0;32m    736\u001b[0m \u001b[38;5;28;01melse\u001b[39;00m:\n\u001b[0;32m    737\u001b[0m     mgr \u001b[38;5;241m=\u001b[39m ndarray_to_mgr(\n\u001b[0;32m    738\u001b[0m         data,\n\u001b[0;32m    739\u001b[0m         index,\n\u001b[1;32m   (...)\u001b[0m\n\u001b[0;32m    743\u001b[0m         typ\u001b[38;5;241m=\u001b[39mmanager,\n\u001b[0;32m    744\u001b[0m     )\n",
      "File \u001b[1;32m~\\miniconda3\\envs\\m1_ih\\lib\\site-packages\\pandas\\core\\internals\\construction.py:125\u001b[0m, in \u001b[0;36marrays_to_mgr\u001b[1;34m(arrays, columns, index, dtype, verify_integrity, typ, consolidate)\u001b[0m\n\u001b[0;32m    122\u001b[0m         index \u001b[38;5;241m=\u001b[39m ensure_index(index)\n\u001b[0;32m    124\u001b[0m     \u001b[38;5;66;03m# don't force copy because getting jammed in an ndarray anyway\u001b[39;00m\n\u001b[1;32m--> 125\u001b[0m     arrays \u001b[38;5;241m=\u001b[39m \u001b[43m_homogenize\u001b[49m\u001b[43m(\u001b[49m\u001b[43marrays\u001b[49m\u001b[43m,\u001b[49m\u001b[43m \u001b[49m\u001b[43mindex\u001b[49m\u001b[43m,\u001b[49m\u001b[43m \u001b[49m\u001b[43mdtype\u001b[49m\u001b[43m)\u001b[49m\n\u001b[0;32m    126\u001b[0m     \u001b[38;5;66;03m# _homogenize ensures\u001b[39;00m\n\u001b[0;32m    127\u001b[0m     \u001b[38;5;66;03m#  - all(len(x) == len(index) for x in arrays)\u001b[39;00m\n\u001b[0;32m    128\u001b[0m     \u001b[38;5;66;03m#  - all(x.ndim == 1 for x in arrays)\u001b[39;00m\n\u001b[1;32m   (...)\u001b[0m\n\u001b[0;32m    131\u001b[0m \n\u001b[0;32m    132\u001b[0m \u001b[38;5;28;01melse\u001b[39;00m:\n\u001b[0;32m    133\u001b[0m     index \u001b[38;5;241m=\u001b[39m ensure_index(index)\n",
      "File \u001b[1;32m~\\miniconda3\\envs\\m1_ih\\lib\\site-packages\\pandas\\core\\internals\\construction.py:628\u001b[0m, in \u001b[0;36m_homogenize\u001b[1;34m(data, index, dtype)\u001b[0m\n\u001b[0;32m    623\u001b[0m             val \u001b[38;5;241m=\u001b[39m lib\u001b[38;5;241m.\u001b[39mfast_multiget(val, oindex\u001b[38;5;241m.\u001b[39m_values, default\u001b[38;5;241m=\u001b[39mnp\u001b[38;5;241m.\u001b[39mnan)\n\u001b[0;32m    625\u001b[0m         val \u001b[38;5;241m=\u001b[39m sanitize_array(\n\u001b[0;32m    626\u001b[0m             val, index, dtype\u001b[38;5;241m=\u001b[39mdtype, copy\u001b[38;5;241m=\u001b[39m\u001b[38;5;28;01mFalse\u001b[39;00m, raise_cast_failure\u001b[38;5;241m=\u001b[39m\u001b[38;5;28;01mFalse\u001b[39;00m\n\u001b[0;32m    627\u001b[0m         )\n\u001b[1;32m--> 628\u001b[0m         \u001b[43mcom\u001b[49m\u001b[38;5;241;43m.\u001b[39;49m\u001b[43mrequire_length_match\u001b[49m\u001b[43m(\u001b[49m\u001b[43mval\u001b[49m\u001b[43m,\u001b[49m\u001b[43m \u001b[49m\u001b[43mindex\u001b[49m\u001b[43m)\u001b[49m\n\u001b[0;32m    630\u001b[0m     homogenized\u001b[38;5;241m.\u001b[39mappend(val)\n\u001b[0;32m    632\u001b[0m \u001b[38;5;28;01mreturn\u001b[39;00m homogenized\n",
      "File \u001b[1;32m~\\miniconda3\\envs\\m1_ih\\lib\\site-packages\\pandas\\core\\common.py:557\u001b[0m, in \u001b[0;36mrequire_length_match\u001b[1;34m(data, index)\u001b[0m\n\u001b[0;32m    553\u001b[0m \u001b[38;5;124;03m\"\"\"\u001b[39;00m\n\u001b[0;32m    554\u001b[0m \u001b[38;5;124;03mCheck the length of data matches the length of the index.\u001b[39;00m\n\u001b[0;32m    555\u001b[0m \u001b[38;5;124;03m\"\"\"\u001b[39;00m\n\u001b[0;32m    556\u001b[0m \u001b[38;5;28;01mif\u001b[39;00m \u001b[38;5;28mlen\u001b[39m(data) \u001b[38;5;241m!=\u001b[39m \u001b[38;5;28mlen\u001b[39m(index):\n\u001b[1;32m--> 557\u001b[0m     \u001b[38;5;28;01mraise\u001b[39;00m \u001b[38;5;167;01mValueError\u001b[39;00m(\n\u001b[0;32m    558\u001b[0m         \u001b[38;5;124m\"\u001b[39m\u001b[38;5;124mLength of values \u001b[39m\u001b[38;5;124m\"\u001b[39m\n\u001b[0;32m    559\u001b[0m         \u001b[38;5;124mf\u001b[39m\u001b[38;5;124m\"\u001b[39m\u001b[38;5;124m(\u001b[39m\u001b[38;5;132;01m{\u001b[39;00m\u001b[38;5;28mlen\u001b[39m(data)\u001b[38;5;132;01m}\u001b[39;00m\u001b[38;5;124m) \u001b[39m\u001b[38;5;124m\"\u001b[39m\n\u001b[0;32m    560\u001b[0m         \u001b[38;5;124m\"\u001b[39m\u001b[38;5;124mdoes not match length of index \u001b[39m\u001b[38;5;124m\"\u001b[39m\n\u001b[0;32m    561\u001b[0m         \u001b[38;5;124mf\u001b[39m\u001b[38;5;124m\"\u001b[39m\u001b[38;5;124m(\u001b[39m\u001b[38;5;132;01m{\u001b[39;00m\u001b[38;5;28mlen\u001b[39m(index)\u001b[38;5;132;01m}\u001b[39;00m\u001b[38;5;124m)\u001b[39m\u001b[38;5;124m\"\u001b[39m\n\u001b[0;32m    562\u001b[0m     )\n",
      "\u001b[1;31mValueError\u001b[0m: Length of values (20) does not match length of index (10)"
     ]
    }
   ],
   "source": [
    "def get_followers(user, count=100):\n",
    "    results = api.followers(user, count=count)\n",
    "    followers = [pd.Series(follower._json) for follower in ironhack]\n",
    "    df = pd.DataFrame(followers)\n",
    "    return df\n",
    "\n",
    "ironhack = get_followers('ironhack')\n",
    "ironhack.head(10)\n"
   ]
  },
  {
   "cell_type": "markdown",
   "id": "a9487ef7",
   "metadata": {},
   "source": [
    "You can always try with the [wrapper](https://github.com/plamere/spotipy)!!!\n",
    "\n",
    "![I quit](https://media.giphy.com/media/3oFzlXPvXYZ4q8VQOs/giphy.gif)"
   ]
  }
 ],
 "metadata": {
  "kernelspec": {
   "display_name": "Python [conda env:m1_ih]",
   "language": "python",
   "name": "conda-env-m1_ih-py"
  },
  "language_info": {
   "codemirror_mode": {
    "name": "ipython",
    "version": 3
   },
   "file_extension": ".py",
   "mimetype": "text/x-python",
   "name": "python",
   "nbconvert_exporter": "python",
   "pygments_lexer": "ipython3",
   "version": "3.9.12"
  }
 },
 "nbformat": 4,
 "nbformat_minor": 5
}
